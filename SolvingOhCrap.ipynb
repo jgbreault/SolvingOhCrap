{
 "cells": [
  {
   "cell_type": "markdown",
   "id": "bd133947",
   "metadata": {},
   "source": [
    "Oh Crap is an trick taking game played with a standard 52-card deck. In the first round, 1 card is dealt to each player. The trump suit is then determined by revealing the top card of the deck. The number of cards dealt increases by 1 each round, but here I'm only concerned about the first round. I want to determine wether the leading player should guess they will get either 0 or 1 tricks.\n",
    "\n",
    "Obviously this depends on the card the leading playing is dealt, the number of players (2-7), and the scoring system. In Oh Crap, you get 10 points for correctly guessing 1 trick, 5 points for correctly guessing 0 tricks, and 0 points for any incorrect guess. The winning card in the first round must either be of the leading suit, or trump. This means that all 26 cards of the other 2 suits are equally worthless. The 1 card used to determine trump is known to all players, but it can not be dealt to any of the players. This leaves a list of 25 cards that could possibly win round 1. These 25 cards can be ordered by value. The leading player is garunteed to be dealt one of these 25 cards."
   ]
  },
  {
   "cell_type": "code",
   "execution_count": 1,
   "id": "8e35184f",
   "metadata": {},
   "outputs": [],
   "source": [
    "# Theory and Imports\n",
    "\n",
    "\"\"\"\n",
    "Let x represent the value of the card dealt to the leading player (1 [low card] <= x <= 25 [high card])\n",
    "\n",
    "Let Po represet (25 - x)/50 (the probability of any 1 opponent having a higher value card than me)\n",
    "\n",
    "E0 = 5*P(loss)\n",
    "E0 = 5*(1 - P(win))\n",
    "\n",
    "E1 = 10*P(win)\n",
    "\n",
    "2 Player:\n",
    "P2(win) = 1 - P(loss)\n",
    "P2(win) = 1 - P(opponent beats me)\n",
    "P2(win) = 1 - (cards that beat me)/(cards available to opponent)\n",
    "P2(win) = 1 - (25 - x)/50\n",
    "P2(win) = 1 - Po\n",
    "\n",
    "3 Player:\n",
    "P3(win) = 1 - P(loss)\n",
    "P3(win) = 1 - P(opponent 1 beats me) - P(opponent 2 beats me) + P(opponent 1 and opponent 2 beat me)\n",
    "P3(win) = 1 - 2*P(opponent 1 beats me) + P(opponent 1 beats me)^2\n",
    "P3(win) = 1 - 2*(25 - x)/50 + ((25 - x)/50)^2\n",
    "P3(win) = 1 - 2*Po + Po^2\n",
    "\n",
    "4 Player:\n",
    "P4(win) = 1 - P(loss)\n",
    "P4(win) = 1 - P(opp1) - P(opp2) - P(opp3) + P(opp1 & opp2) + P(opp2 & opp3) + P(opp1 & opp3) - P(opp1 & opp2 & opp3)\n",
    "P4(win) = 1 - 3*P(opp1) + 3*P(opp1 & opp2) - P(opp1 & opp2 & opp3)\n",
    "P4(win) = 1 - 3*P(opp1) + 3*P(opp1)^2 - P(opp1)^3\n",
    "P4(win) = 1 - 3*Po + 3*Po^2 - Po^3\n",
    "\n",
    "5 Player:\n",
    "P5(win) = 1 - P(loss)\n",
    "P5(win) = 1 - P(1) - P(2) - P(3) - P(4) + P(1,2) + P(1,3) + P(1,4) + P(2,3) + P(2,4) + P(3,4) \n",
    "            - P(1,2,3) - P(1,2,4) - P(1,3,4) - P(2,3,4) + P(1,2,3,4)\n",
    "P5(win) = 1 - 4*P(1) + 6*P(1,2) - 4*P(1,2,3) + P(1,2,3,4)\n",
    "P5(win) = 1 - 4*Po + 6*Po^2 - 4*Po^3 + Po^4\n",
    "\n",
    "6 Player:\n",
    "P6(win) = 1 - 5*Po + 10*Po^2 - 10*Po^3 + 5*Po^4 - Po^5\n",
    "\n",
    "7 Player:\n",
    "P7(win) = 1 - 6*Po + 15*Po^2 - 20*Po^3 + 15*Po^4 - 6*Po^5 + Po^6\n",
    "\n",
    "The coeffients are like Pascal's Triangle, neat.\n",
    "\n",
    "\"\"\"\n",
    "\n",
    "import numpy as np\n",
    "import pandas as pd\n",
    "import random as rm"
   ]
  },
  {
   "cell_type": "code",
   "execution_count": 2,
   "id": "a1577758",
   "metadata": {},
   "outputs": [
    {
     "name": "stdout",
     "output_type": "stream",
     "text": [
      "For 2 players, 1 trick should be guessed for any card with value 1/25 or higher\n",
      "For 3 players, 1 trick should be guessed for any card with value 4/25 or higher\n",
      "For 4 players, 1 trick should be guessed for any card with value 10/25 or higher\n",
      "For 5 players, 1 trick should be guessed for any card with value 13/25 or higher\n",
      "For 6 players, 1 trick should be guessed for any card with value 16/25 or higher\n",
      "For 7 players, 1 trick should be guessed for any card with value 17/25 or higher\n"
     ]
    }
   ],
   "source": [
    "# Analytical Solution\n",
    "\n",
    "# based on the theory from above\n",
    "def probWinning(x, nPlayers):\n",
    "    assert nPlayers >=2 and nPlayers <= 7\n",
    "    \n",
    "    Po = (25 - x)/50\n",
    "    \n",
    "    if nPlayers == 2:\n",
    "        return 1 - Po\n",
    "    if nPlayers == 3:\n",
    "        return 1 - 2*Po + Po**2\n",
    "    if nPlayers == 4:\n",
    "        return 1 - 3*Po + 3*Po**2 - Po**3\n",
    "    if nPlayers == 5:\n",
    "        return 1 - 4*Po + 6*Po**2 - 4*Po**3 + Po**4\n",
    "    if nPlayers == 6:\n",
    "        return 1 - 5*Po + 10*Po**2 - 10*Po**3 + 5*Po**4 - Po**5\n",
    "    if nPlayers == 7:\n",
    "        return 1 - 6*Po + 15*Po**2 - 20*Po**3 + 15*Po**4 - 6*Po**5 + Po**6\n",
    "\n",
    "# gets the expectation values for guessing both 1 and 0, for every possible leading card\n",
    "def getExpectationValues(nPlayers):\n",
    "    expectationValues = pd.DataFrame(columns=['E0', 'E1'])\n",
    "    \n",
    "    for x in range(1, 26):\n",
    "        Pwin = probWinning(x, nPlayers)\n",
    "        E0 = 5*(1 - Pwin)\n",
    "        E1 = 10*Pwin\n",
    "        expectationValues.loc[x] = [E0, E1]\n",
    "    \n",
    "    return expectationValues\n",
    "\n",
    "for numPlayers in range(2, 8):\n",
    "    EV = getExpectationValues(nPlayers = numPlayers)\n",
    "    EV['Guess1'] = EV.apply(lambda x: x.E1 > x.E0, axis=1)\n",
    "    lowestValue = EV.query('Guess1 == 1').index.min()\n",
    "    print(f'For {numPlayers} players, 1 trick should be guessed for any card with value {lowestValue}/25 or higher')"
   ]
  },
  {
   "cell_type": "code",
   "execution_count": 3,
   "id": "3ca919b2",
   "metadata": {},
   "outputs": [
    {
     "name": "stdout",
     "output_type": "stream",
     "text": [
      "For 2 players, 1 trick should be guessed for any card with value 1/25 or higher\n",
      "For 3 players, 1 trick should be guessed for any card with value 5/25 or higher\n",
      "For 4 players, 1 trick should be guessed for any card with value 11/25 or higher\n",
      "For 5 players, 1 trick should be guessed for any card with value 14/25 or higher\n",
      "For 6 players, 1 trick should be guessed for any card with value 16/25 or higher\n",
      "For 7 players, 1 trick should be guessed for any card with value 18/25 or higher\n"
     ]
    }
   ],
   "source": [
    "# Numerical Solution\n",
    "\n",
    "# runs a simulated first round of Oh Crap and returns the leading players score\n",
    "def runGame(leadingCard, nPlayers, numTricksGuessed):\n",
    "    assert numTricksGuessed in [0, 1]\n",
    "    assert nPlayers >=2 and nPlayers <= 7\n",
    "    \n",
    "    playerValues = []\n",
    "    for i in range(nPlayers):\n",
    "        if i == 0:\n",
    "            playerValues.append(26 - leadingCard)\n",
    "        else:\n",
    "            while len(playerValues) == i:\n",
    "                x = rm.randint(1, 50)\n",
    "                if x not in playerValues:\n",
    "                    playerValues.append(x)\n",
    "                    \n",
    "    if playerValues[0] == np.array(playerValues).min() and numTricksGuessed == 1:\n",
    "        return 10\n",
    "    elif playerValues[0] != np.array(playerValues).min() and numTricksGuessed == 0:\n",
    "        return 5\n",
    "    return 0\n",
    "\n",
    "# simulates a game for every possible leading card, across all possible number of players\n",
    "def runManyGames(nGames, numTricksGuessed):\n",
    "    expectationValues = pd.DataFrame(columns=['2P', '3P', '4P', '5P', '6P', '7P'])\n",
    "    for x in range(1, 26):\n",
    "        pointsByNumPlayers = []\n",
    "        for numPlayers in range(2, 8):\n",
    "            pointSum = 0\n",
    "            for gameNumber in range(nGames):\n",
    "                pointSum += runGame(x, numPlayers, numTricksGuessed)\n",
    "            pointsByNumPlayers.append(pointSum/nGames)\n",
    "        expectationValues.loc[x] = pointsByNumPlayers\n",
    "    return expectationValues\n",
    "    \n",
    "numGames = 10000\n",
    "EV_difference = runManyGames(numGames, 1) - runManyGames(numGames, 0)\n",
    "for i, column in enumerate(EV_difference):\n",
    "    for j, value in enumerate(EV_difference[column]):\n",
    "        if float(value) >= 0:\n",
    "            print(f'For {i+2} players, 1 trick should be guessed for any card with value {j+1}/25 or higher')\n",
    "            break"
   ]
  },
  {
   "cell_type": "markdown",
   "id": "547f2fb4",
   "metadata": {},
   "source": [
    "Hmm, the analytical solutions don't match numerical ones. I expect there is something wrong with my math in the analytical theory. I'll have to take another look at this sometime to figure out the mismatch. "
   ]
  },
  {
   "cell_type": "code",
   "execution_count": null,
   "id": "35ab761f",
   "metadata": {},
   "outputs": [],
   "source": []
  }
 ],
 "metadata": {
  "kernelspec": {
   "display_name": "Python 3",
   "language": "python",
   "name": "python3"
  },
  "language_info": {
   "codemirror_mode": {
    "name": "ipython",
    "version": 3
   },
   "file_extension": ".py",
   "mimetype": "text/x-python",
   "name": "python",
   "nbconvert_exporter": "python",
   "pygments_lexer": "ipython3",
   "version": "3.8.5"
  }
 },
 "nbformat": 4,
 "nbformat_minor": 5
}
